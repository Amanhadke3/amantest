{
 "cells": [
  {
   "cell_type": "code",
   "execution_count": 9,
   "id": "74d9c882",
   "metadata": {},
   "outputs": [
    {
     "name": "stdout",
     "output_type": "stream",
     "text": [
      "[0, 1, 1, 2, 3, 5, 8, 13, 21, 34]\n"
     ]
    }
   ],
   "source": [
    "  def  fibonacci(n): \n",
    "    result = [] \n",
    "    a, b = 0, 1 \n",
    "    while len(result) < n: \n",
    "        result.append(a) \n",
    "        a, b = b, a + b \n",
    "    return result \n",
    " \n",
    "print(fibonacci(10)) "
   ]
  }
 ],
 "metadata": {
  "kernelspec": {
   "display_name": "Python 3 (ipykernel)",
   "language": "python",
   "name": "python3"
  },
  "language_info": {
   "codemirror_mode": {
    "name": "ipython",
    "version": 3
   },
   "file_extension": ".py",
   "mimetype": "text/x-python",
   "name": "python",
   "nbconvert_exporter": "python",
   "pygments_lexer": "ipython3",
   "version": "3.10.9"
  }
 },
 "nbformat": 4,
 "nbformat_minor": 5
}
